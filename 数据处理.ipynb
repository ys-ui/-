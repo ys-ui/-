{
 "cells": [
  {
   "cell_type": "code",
   "execution_count": 3,
   "id": "42e7d0a0",
   "metadata": {},
   "outputs": [
    {
     "name": "stdout",
     "output_type": "stream",
     "text": [
      "处理文件: S1_times.csv\n",
      "归一化数据已保存到: D:\\Work\\work\\通量塔\\0827\\幂函数拟合\\S1_times_normalized.csv\n"
     ]
    },
    {
     "name": "stderr",
     "output_type": "stream",
     "text": [
      "C:\\Users\\18804\\AppData\\Local\\Temp\\ipykernel_14044\\1518129398.py:84: UserWarning: Glyph 24130 (\\N{CJK UNIFIED IDEOGRAPH-5E42}) missing from font(s) DejaVu Sans.\n",
      "  plt.tight_layout()\n",
      "C:\\Users\\18804\\AppData\\Local\\Temp\\ipykernel_14044\\1518129398.py:84: UserWarning: Glyph 20989 (\\N{CJK UNIFIED IDEOGRAPH-51FD}) missing from font(s) DejaVu Sans.\n",
      "  plt.tight_layout()\n",
      "C:\\Users\\18804\\AppData\\Local\\Temp\\ipykernel_14044\\1518129398.py:84: UserWarning: Glyph 25968 (\\N{CJK UNIFIED IDEOGRAPH-6570}) missing from font(s) DejaVu Sans.\n",
      "  plt.tight_layout()\n",
      "C:\\Users\\18804\\AppData\\Local\\Temp\\ipykernel_14044\\1518129398.py:84: UserWarning: Glyph 25311 (\\N{CJK UNIFIED IDEOGRAPH-62DF}) missing from font(s) DejaVu Sans.\n",
      "  plt.tight_layout()\n",
      "C:\\Users\\18804\\AppData\\Local\\Temp\\ipykernel_14044\\1518129398.py:84: UserWarning: Glyph 21512 (\\N{CJK UNIFIED IDEOGRAPH-5408}) missing from font(s) DejaVu Sans.\n",
      "  plt.tight_layout()\n",
      "C:\\Users\\18804\\AppData\\Local\\Temp\\ipykernel_14044\\1518129398.py:86: UserWarning: Glyph 24130 (\\N{CJK UNIFIED IDEOGRAPH-5E42}) missing from font(s) DejaVu Sans.\n",
      "  plt.savefig(fig_output_path, dpi=300, bbox_inches='tight')\n",
      "C:\\Users\\18804\\AppData\\Local\\Temp\\ipykernel_14044\\1518129398.py:86: UserWarning: Glyph 20989 (\\N{CJK UNIFIED IDEOGRAPH-51FD}) missing from font(s) DejaVu Sans.\n",
      "  plt.savefig(fig_output_path, dpi=300, bbox_inches='tight')\n",
      "C:\\Users\\18804\\AppData\\Local\\Temp\\ipykernel_14044\\1518129398.py:86: UserWarning: Glyph 25968 (\\N{CJK UNIFIED IDEOGRAPH-6570}) missing from font(s) DejaVu Sans.\n",
      "  plt.savefig(fig_output_path, dpi=300, bbox_inches='tight')\n",
      "C:\\Users\\18804\\AppData\\Local\\Temp\\ipykernel_14044\\1518129398.py:86: UserWarning: Glyph 25311 (\\N{CJK UNIFIED IDEOGRAPH-62DF}) missing from font(s) DejaVu Sans.\n",
      "  plt.savefig(fig_output_path, dpi=300, bbox_inches='tight')\n",
      "C:\\Users\\18804\\AppData\\Local\\Temp\\ipykernel_14044\\1518129398.py:86: UserWarning: Glyph 21512 (\\N{CJK UNIFIED IDEOGRAPH-5408}) missing from font(s) DejaVu Sans.\n",
      "  plt.savefig(fig_output_path, dpi=300, bbox_inches='tight')\n"
     ]
    },
    {
     "name": "stdout",
     "output_type": "stream",
     "text": [
      "幂函数拟合图已保存到: D:\\Work\\work\\通量塔\\0827\\幂函数拟合\\S1_times_power_law_fits.png\n",
      "处理文件: S2_times.csv\n",
      "归一化数据已保存到: D:\\Work\\work\\通量塔\\0827\\幂函数拟合\\S2_times_normalized.csv\n"
     ]
    },
    {
     "name": "stderr",
     "output_type": "stream",
     "text": [
      "C:\\Users\\18804\\AppData\\Local\\Temp\\ipykernel_14044\\1518129398.py:84: UserWarning: Glyph 24130 (\\N{CJK UNIFIED IDEOGRAPH-5E42}) missing from font(s) DejaVu Sans.\n",
      "  plt.tight_layout()\n",
      "C:\\Users\\18804\\AppData\\Local\\Temp\\ipykernel_14044\\1518129398.py:84: UserWarning: Glyph 20989 (\\N{CJK UNIFIED IDEOGRAPH-51FD}) missing from font(s) DejaVu Sans.\n",
      "  plt.tight_layout()\n",
      "C:\\Users\\18804\\AppData\\Local\\Temp\\ipykernel_14044\\1518129398.py:84: UserWarning: Glyph 25968 (\\N{CJK UNIFIED IDEOGRAPH-6570}) missing from font(s) DejaVu Sans.\n",
      "  plt.tight_layout()\n",
      "C:\\Users\\18804\\AppData\\Local\\Temp\\ipykernel_14044\\1518129398.py:84: UserWarning: Glyph 25311 (\\N{CJK UNIFIED IDEOGRAPH-62DF}) missing from font(s) DejaVu Sans.\n",
      "  plt.tight_layout()\n",
      "C:\\Users\\18804\\AppData\\Local\\Temp\\ipykernel_14044\\1518129398.py:84: UserWarning: Glyph 21512 (\\N{CJK UNIFIED IDEOGRAPH-5408}) missing from font(s) DejaVu Sans.\n",
      "  plt.tight_layout()\n",
      "C:\\Users\\18804\\AppData\\Local\\Temp\\ipykernel_14044\\1518129398.py:86: UserWarning: Glyph 24130 (\\N{CJK UNIFIED IDEOGRAPH-5E42}) missing from font(s) DejaVu Sans.\n",
      "  plt.savefig(fig_output_path, dpi=300, bbox_inches='tight')\n",
      "C:\\Users\\18804\\AppData\\Local\\Temp\\ipykernel_14044\\1518129398.py:86: UserWarning: Glyph 20989 (\\N{CJK UNIFIED IDEOGRAPH-51FD}) missing from font(s) DejaVu Sans.\n",
      "  plt.savefig(fig_output_path, dpi=300, bbox_inches='tight')\n",
      "C:\\Users\\18804\\AppData\\Local\\Temp\\ipykernel_14044\\1518129398.py:86: UserWarning: Glyph 25968 (\\N{CJK UNIFIED IDEOGRAPH-6570}) missing from font(s) DejaVu Sans.\n",
      "  plt.savefig(fig_output_path, dpi=300, bbox_inches='tight')\n",
      "C:\\Users\\18804\\AppData\\Local\\Temp\\ipykernel_14044\\1518129398.py:86: UserWarning: Glyph 25311 (\\N{CJK UNIFIED IDEOGRAPH-62DF}) missing from font(s) DejaVu Sans.\n",
      "  plt.savefig(fig_output_path, dpi=300, bbox_inches='tight')\n",
      "C:\\Users\\18804\\AppData\\Local\\Temp\\ipykernel_14044\\1518129398.py:86: UserWarning: Glyph 21512 (\\N{CJK UNIFIED IDEOGRAPH-5408}) missing from font(s) DejaVu Sans.\n",
      "  plt.savefig(fig_output_path, dpi=300, bbox_inches='tight')\n"
     ]
    },
    {
     "name": "stdout",
     "output_type": "stream",
     "text": [
      "幂函数拟合图已保存到: D:\\Work\\work\\通量塔\\0827\\幂函数拟合\\S2_times_power_law_fits.png\n",
      "处理文件: S3_times.csv\n",
      "归一化数据已保存到: D:\\Work\\work\\通量塔\\0827\\幂函数拟合\\S3_times_normalized.csv\n"
     ]
    },
    {
     "name": "stderr",
     "output_type": "stream",
     "text": [
      "C:\\Users\\18804\\AppData\\Local\\Temp\\ipykernel_14044\\1518129398.py:84: UserWarning: Glyph 24130 (\\N{CJK UNIFIED IDEOGRAPH-5E42}) missing from font(s) DejaVu Sans.\n",
      "  plt.tight_layout()\n",
      "C:\\Users\\18804\\AppData\\Local\\Temp\\ipykernel_14044\\1518129398.py:84: UserWarning: Glyph 20989 (\\N{CJK UNIFIED IDEOGRAPH-51FD}) missing from font(s) DejaVu Sans.\n",
      "  plt.tight_layout()\n",
      "C:\\Users\\18804\\AppData\\Local\\Temp\\ipykernel_14044\\1518129398.py:84: UserWarning: Glyph 25968 (\\N{CJK UNIFIED IDEOGRAPH-6570}) missing from font(s) DejaVu Sans.\n",
      "  plt.tight_layout()\n",
      "C:\\Users\\18804\\AppData\\Local\\Temp\\ipykernel_14044\\1518129398.py:84: UserWarning: Glyph 25311 (\\N{CJK UNIFIED IDEOGRAPH-62DF}) missing from font(s) DejaVu Sans.\n",
      "  plt.tight_layout()\n",
      "C:\\Users\\18804\\AppData\\Local\\Temp\\ipykernel_14044\\1518129398.py:84: UserWarning: Glyph 21512 (\\N{CJK UNIFIED IDEOGRAPH-5408}) missing from font(s) DejaVu Sans.\n",
      "  plt.tight_layout()\n",
      "C:\\Users\\18804\\AppData\\Local\\Temp\\ipykernel_14044\\1518129398.py:86: UserWarning: Glyph 24130 (\\N{CJK UNIFIED IDEOGRAPH-5E42}) missing from font(s) DejaVu Sans.\n",
      "  plt.savefig(fig_output_path, dpi=300, bbox_inches='tight')\n",
      "C:\\Users\\18804\\AppData\\Local\\Temp\\ipykernel_14044\\1518129398.py:86: UserWarning: Glyph 20989 (\\N{CJK UNIFIED IDEOGRAPH-51FD}) missing from font(s) DejaVu Sans.\n",
      "  plt.savefig(fig_output_path, dpi=300, bbox_inches='tight')\n",
      "C:\\Users\\18804\\AppData\\Local\\Temp\\ipykernel_14044\\1518129398.py:86: UserWarning: Glyph 25968 (\\N{CJK UNIFIED IDEOGRAPH-6570}) missing from font(s) DejaVu Sans.\n",
      "  plt.savefig(fig_output_path, dpi=300, bbox_inches='tight')\n",
      "C:\\Users\\18804\\AppData\\Local\\Temp\\ipykernel_14044\\1518129398.py:86: UserWarning: Glyph 25311 (\\N{CJK UNIFIED IDEOGRAPH-62DF}) missing from font(s) DejaVu Sans.\n",
      "  plt.savefig(fig_output_path, dpi=300, bbox_inches='tight')\n",
      "C:\\Users\\18804\\AppData\\Local\\Temp\\ipykernel_14044\\1518129398.py:86: UserWarning: Glyph 21512 (\\N{CJK UNIFIED IDEOGRAPH-5408}) missing from font(s) DejaVu Sans.\n",
      "  plt.savefig(fig_output_path, dpi=300, bbox_inches='tight')\n"
     ]
    },
    {
     "name": "stdout",
     "output_type": "stream",
     "text": [
      "幂函数拟合图已保存到: D:\\Work\\work\\通量塔\\0827\\幂函数拟合\\S3_times_power_law_fits.png\n",
      "处理文件: S4_times.csv\n",
      "归一化数据已保存到: D:\\Work\\work\\通量塔\\0827\\幂函数拟合\\S4_times_normalized.csv\n"
     ]
    },
    {
     "name": "stderr",
     "output_type": "stream",
     "text": [
      "C:\\Users\\18804\\AppData\\Local\\Temp\\ipykernel_14044\\1518129398.py:84: UserWarning: Glyph 24130 (\\N{CJK UNIFIED IDEOGRAPH-5E42}) missing from font(s) DejaVu Sans.\n",
      "  plt.tight_layout()\n",
      "C:\\Users\\18804\\AppData\\Local\\Temp\\ipykernel_14044\\1518129398.py:84: UserWarning: Glyph 20989 (\\N{CJK UNIFIED IDEOGRAPH-51FD}) missing from font(s) DejaVu Sans.\n",
      "  plt.tight_layout()\n",
      "C:\\Users\\18804\\AppData\\Local\\Temp\\ipykernel_14044\\1518129398.py:84: UserWarning: Glyph 25968 (\\N{CJK UNIFIED IDEOGRAPH-6570}) missing from font(s) DejaVu Sans.\n",
      "  plt.tight_layout()\n",
      "C:\\Users\\18804\\AppData\\Local\\Temp\\ipykernel_14044\\1518129398.py:84: UserWarning: Glyph 25311 (\\N{CJK UNIFIED IDEOGRAPH-62DF}) missing from font(s) DejaVu Sans.\n",
      "  plt.tight_layout()\n",
      "C:\\Users\\18804\\AppData\\Local\\Temp\\ipykernel_14044\\1518129398.py:84: UserWarning: Glyph 21512 (\\N{CJK UNIFIED IDEOGRAPH-5408}) missing from font(s) DejaVu Sans.\n",
      "  plt.tight_layout()\n",
      "C:\\Users\\18804\\AppData\\Local\\Temp\\ipykernel_14044\\1518129398.py:86: UserWarning: Glyph 24130 (\\N{CJK UNIFIED IDEOGRAPH-5E42}) missing from font(s) DejaVu Sans.\n",
      "  plt.savefig(fig_output_path, dpi=300, bbox_inches='tight')\n",
      "C:\\Users\\18804\\AppData\\Local\\Temp\\ipykernel_14044\\1518129398.py:86: UserWarning: Glyph 20989 (\\N{CJK UNIFIED IDEOGRAPH-51FD}) missing from font(s) DejaVu Sans.\n",
      "  plt.savefig(fig_output_path, dpi=300, bbox_inches='tight')\n",
      "C:\\Users\\18804\\AppData\\Local\\Temp\\ipykernel_14044\\1518129398.py:86: UserWarning: Glyph 25968 (\\N{CJK UNIFIED IDEOGRAPH-6570}) missing from font(s) DejaVu Sans.\n",
      "  plt.savefig(fig_output_path, dpi=300, bbox_inches='tight')\n",
      "C:\\Users\\18804\\AppData\\Local\\Temp\\ipykernel_14044\\1518129398.py:86: UserWarning: Glyph 25311 (\\N{CJK UNIFIED IDEOGRAPH-62DF}) missing from font(s) DejaVu Sans.\n",
      "  plt.savefig(fig_output_path, dpi=300, bbox_inches='tight')\n",
      "C:\\Users\\18804\\AppData\\Local\\Temp\\ipykernel_14044\\1518129398.py:86: UserWarning: Glyph 21512 (\\N{CJK UNIFIED IDEOGRAPH-5408}) missing from font(s) DejaVu Sans.\n",
      "  plt.savefig(fig_output_path, dpi=300, bbox_inches='tight')\n"
     ]
    },
    {
     "name": "stdout",
     "output_type": "stream",
     "text": [
      "幂函数拟合图已保存到: D:\\Work\\work\\通量塔\\0827\\幂函数拟合\\S4_times_power_law_fits.png\n"
     ]
    }
   ],
   "source": [
    "import numpy as np\n",
    "import pandas as pd\n",
    "import matplotlib.pyplot as plt\n",
    "from scipy.optimize import curve_fit\n",
    "import os\n",
    "\n",
    "def power_law(x, a, b):\n",
    "    return a * np.power(x, b)\n",
    "\n",
    "def fit_power_law(x, y):\n",
    "    # 只拟合非零且非nan的点\n",
    "    mask = (~np.isnan(x)) & (~np.isnan(y)) & (x > 0) & (y > 0)\n",
    "    x_fit = x[mask]\n",
    "    y_fit = y[mask]\n",
    "    if len(x_fit) < 2:\n",
    "        return np.nan, np.nan\n",
    "    try:\n",
    "        popt, _ = curve_fit(power_law, x_fit, y_fit, maxfev=10000)\n",
    "        return popt[0], popt[1]\n",
    "    except Exception as e:\n",
    "        return np.nan, np.nan\n",
    "\n",
    "def plot_power_law_fit(x, y, a, b, label, ax=None):\n",
    "    if ax is None:\n",
    "        fig, ax = plt.subplots(figsize=(7,5))\n",
    "    ax.scatter(x, y, label='points', color='blue', alpha=0.6, s=30)\n",
    "    if not (np.isnan(a) or np.isnan(b)):\n",
    "        x_fit = np.linspace(np.nanmin(x), np.nanmax(x), 200)\n",
    "        y_fit = power_law(x_fit, a, b)\n",
    "        ax.plot(x_fit, y_fit, color='red', lw=2.5, label=f'power equation: y={a:.2f}x^{b:.2f}')\n",
    "    ax.set_xlabel('Row Sum')\n",
    "    ax.set_ylabel(label)\n",
    "    ax.set_title(f'{label} 幂函数拟合')\n",
    "    ax.legend()\n",
    "    ax.grid(True)\n",
    "    return ax\n",
    "\n",
    "if __name__ == \"__main__\":\n",
    "    # 设置输入和输出目录\n",
    "    input_dir = r\"D:\\Work\\work\\通量塔\\siji\\新建文件夹\"\n",
    "    output_dir = r\"D:\\Work\\work\\通量塔\\0827\\幂函数拟合\"\n",
    "    os.makedirs(output_dir, exist_ok=True)\n",
    "    files = [\n",
    "        \"S1_times.csv\",\n",
    "        \"S2_times.csv\",\n",
    "        \"S3_times.csv\",\n",
    "        \"S4_times.csv\"\n",
    "    ]\n",
    "    for file_name in files:\n",
    "        file_path = os.path.join(input_dir, file_name)\n",
    "        print(f\"处理文件: {file_name}\")\n",
    "        try:\n",
    "            # 读取数据\n",
    "            header = pd.read_csv(file_path, nrows=0)\n",
    "            df = pd.read_csv(file_path, skiprows=1, nrows=1200, names=header.columns)\n",
    "            # 只保留数值型列\n",
    "            numeric_cols = df.select_dtypes(include=[np.number]).columns\n",
    "            if len(numeric_cols) == 0:\n",
    "                print(f\"文件 {file_name} 没有数值型列，跳过。\")\n",
    "                continue\n",
    "            df_numeric = df[numeric_cols]\n",
    "            # 归一化\n",
    "            df_norm = (df_numeric - df_numeric.min()) / (df_numeric.max() - df_numeric.min())\n",
    "            row_sums = df_norm.sum(axis=1)\n",
    "            df_new = pd.DataFrame({'Row Sum': row_sums})\n",
    "            df_new = pd.concat([df_new, df_norm], axis=1)\n",
    "            df_new = df_new.loc[row_sums.sort_values().index]\n",
    "\n",
    "            #保存归一化后的数据\n",
    "            norm_output_path = os.path.join(output_dir, f\"{os.path.splitext(file_name)[0]}_normalized.csv\")\n",
    "            df_new.to_csv(norm_output_path, index=False)    \n",
    "            print(f\"归一化数据已保存到: {norm_output_path}\")\n",
    "    \n",
    "            # 为每一列进行幂函数拟合并绘图\n",
    "            fig, axes = plt.subplots(2, 2, figsize=(15, 15))\n",
    "            axes = axes.ravel()\n",
    "                \n",
    "            for i, col in enumerate(df_norm.columns):\n",
    "                    if i >= 4:  # 限制只显示前4个图\n",
    "                        break\n",
    "                    a, b = fit_power_law(df_new['Row Sum'], df_new[col])\n",
    "                    plot_power_law_fit(df_new['Row Sum'], df_new[col], a, b, col, ax=axes[i])\n",
    "                \n",
    "            plt.tight_layout()\n",
    "            fig_output_path = os.path.join(output_dir, f\"{os.path.splitext(file_name)[0]}_power_law_fits.png\")\n",
    "            plt.savefig(fig_output_path, dpi=300, bbox_inches='tight')\n",
    "            plt.close()\n",
    "            print(f\"幂函数拟合图已保存到: {fig_output_path}\")\n",
    "                \n",
    "        except Exception as e:\n",
    "                print(f\"处理文件 {file_name} 时发生错误: {str(e)}\")"
   ]
  }
 ],
 "metadata": {
  "kernelspec": {
   "display_name": "base",
   "language": "python",
   "name": "python3"
  },
  "language_info": {
   "codemirror_mode": {
    "name": "ipython",
    "version": 3
   },
   "file_extension": ".py",
   "mimetype": "text/x-python",
   "name": "python",
   "nbconvert_exporter": "python",
   "pygments_lexer": "ipython3",
   "version": "3.13.5"
  }
 },
 "nbformat": 4,
 "nbformat_minor": 5
}
